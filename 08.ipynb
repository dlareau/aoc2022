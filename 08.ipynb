{
 "cells": [
  {
   "cell_type": "code",
   "execution_count": 1,
   "id": "d7ee0501",
   "metadata": {},
   "outputs": [],
   "source": [
    "import aocd\n",
    "import re\n",
    "import numpy as np\n",
    "%run helper.ipynb\n",
    "puzzle = aocd.models.Puzzle(year=2022, day=8)"
   ]
  },
  {
   "cell_type": "code",
   "execution_count": 2,
   "id": "68695214",
   "metadata": {},
   "outputs": [],
   "source": [
    "grid = np.asarray(string_to_grid(puzzle.input_data))"
   ]
  },
  {
   "cell_type": "code",
   "execution_count": 3,
   "id": "19e8c6dc",
   "metadata": {},
   "outputs": [],
   "source": [
    "total = 0\n",
    "for row in range(len(grid)):\n",
    "    for col in range(len(grid[0])):\n",
    "        curr = grid[row][col]\n",
    "        \n",
    "        left = curr > max(grid[row, :col], default=-1)\n",
    "        right = curr > max(grid[row, col+1:], default=-1)\n",
    "        up = curr > max(grid[:row, col], default=-1)\n",
    "        down = curr > max(grid[row+1:, col], default=-1)\n",
    "        \n",
    "        if(left or right or up or down):\n",
    "            total += 1"
   ]
  },
  {
   "cell_type": "code",
   "execution_count": 4,
   "id": "3cbb7abc",
   "metadata": {},
   "outputs": [],
   "source": [
    "puzzle.answer_a = total"
   ]
  },
  {
   "cell_type": "code",
   "execution_count": 5,
   "id": "6ba4cc70",
   "metadata": {},
   "outputs": [],
   "source": [
    "results = []\n",
    "\n",
    "# Returns the index of the first value higher than val\n",
    "def view(r, val):\n",
    "    return next((i+1 for i, v in enumerate(r) if v >= val), len(r))\n",
    "\n",
    "for row in range(len(grid)):\n",
    "    for col in range(len(grid[0])):\n",
    "        curr = grid[row][col]\n",
    "        \n",
    "        left = view(np.flip(grid[row, :col]), curr)\n",
    "        right = view(grid[row, col+1:], curr)\n",
    "        up = view(np.flip(grid[:row, col]), curr)\n",
    "        down = view(grid[row+1:, col], curr)\n",
    "        \n",
    "        results.append(left * right * up * down)"
   ]
  },
  {
   "cell_type": "code",
   "execution_count": 6,
   "id": "aec21eb0",
   "metadata": {},
   "outputs": [],
   "source": [
    "puzzle.answer_b = max(results)"
   ]
  }
 ],
 "metadata": {
  "kernelspec": {
   "display_name": "Python 3 (ipykernel)",
   "language": "python",
   "name": "python3"
  },
  "language_info": {
   "codemirror_mode": {
    "name": "ipython",
    "version": 3
   },
   "file_extension": ".py",
   "mimetype": "text/x-python",
   "name": "python",
   "nbconvert_exporter": "python",
   "pygments_lexer": "ipython3",
   "version": "3.11.0"
  }
 },
 "nbformat": 4,
 "nbformat_minor": 5
}
