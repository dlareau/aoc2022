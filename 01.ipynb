{
 "cells": [
  {
   "cell_type": "code",
   "execution_count": 3,
   "id": "86e514f0",
   "metadata": {},
   "outputs": [],
   "source": [
    "import aocd\n",
    "import re\n",
    "import numpy as np\n",
    "%run helper.ipynb\n",
    "puzzle = aocd.models.Puzzle(year=2022, day=1)"
   ]
  },
  {
   "cell_type": "code",
   "execution_count": 31,
   "id": "fd2c672e",
   "metadata": {},
   "outputs": [],
   "source": [
    "elves = [sum(map(int, x.split(\"\\n\"))) for x in puzzle.input_data.split(\"\\n\\n\")]"
   ]
  },
  {
   "cell_type": "code",
   "execution_count": 35,
   "id": "c3f73a46",
   "metadata": {},
   "outputs": [],
   "source": [
    "puzzle.answer_a = max(elves)"
   ]
  },
  {
   "cell_type": "code",
   "execution_count": 36,
   "id": "d5cf8c12",
   "metadata": {},
   "outputs": [],
   "source": [
    "puzzle.answer_b = sum(sorted(elves)[-3:])"
   ]
  },
  {
   "cell_type": "code",
   "execution_count": null,
   "id": "e7367d64",
   "metadata": {},
   "outputs": [],
   "source": []
  }
 ],
 "metadata": {
  "kernelspec": {
   "display_name": "Python 3 (ipykernel)",
   "language": "python",
   "name": "python3"
  },
  "language_info": {
   "codemirror_mode": {
    "name": "ipython",
    "version": 3
   },
   "file_extension": ".py",
   "mimetype": "text/x-python",
   "name": "python",
   "nbconvert_exporter": "python",
   "pygments_lexer": "ipython3",
   "version": "3.11.0"
  }
 },
 "nbformat": 4,
 "nbformat_minor": 5
}
