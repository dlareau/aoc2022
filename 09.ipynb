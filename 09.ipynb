{
 "cells": [
  {
   "cell_type": "code",
   "execution_count": 1,
   "id": "5e962dbe",
   "metadata": {},
   "outputs": [],
   "source": [
    "import aocd\n",
    "import re\n",
    "import numpy as np\n",
    "%run helper.ipynb\n",
    "puzzle = aocd.models.Puzzle(year=2022, day=9)"
   ]
  },
  {
   "cell_type": "code",
   "execution_count": 2,
   "id": "40e0d3ec",
   "metadata": {},
   "outputs": [],
   "source": [
    "cmds = puzzle.input_data.splitlines()"
   ]
  },
  {
   "cell_type": "code",
   "execution_count": 3,
   "id": "01878e7a",
   "metadata": {},
   "outputs": [],
   "source": [
    "class Point():\n",
    "    def __init__(self, x, y):\n",
    "        self.x = x\n",
    "        self.y = y\n",
    "    \n",
    "    def add(self, p):\n",
    "        self.x += p.x\n",
    "        self.y += p.y\n",
    "    \n",
    "    def move_vec(self, p):\n",
    "        x_diff = p.x - self.x\n",
    "        y_diff = p.y - self.y\n",
    "        # Why the heck does does a knight's move act differently?!? \n",
    "        if(set((abs(x_diff), abs(y_diff))) == {1,2}):\n",
    "            return Point(int(x_diff / abs(x_diff)), int(y_diff/ abs(y_diff)))\n",
    "        else:  # Everything else just moves half the distance rounded down\n",
    "            return Point(int(x_diff/2), int(y_diff/2))\n",
    "    \n",
    "def dir_to_vec(dir):\n",
    "    if dir == \"U\":\n",
    "        return Point(0, 1)\n",
    "    elif dir == \"D\":\n",
    "        return Point(0, -1)\n",
    "    elif dir == \"L\":\n",
    "        return Point(-1, 0)\n",
    "    elif dir == \"R\":\n",
    "        return Point(1, 0)\n",
    "    return Point(0, 0)"
   ]
  },
  {
   "cell_type": "code",
   "execution_count": 4,
   "id": "0bde2bec",
   "metadata": {},
   "outputs": [],
   "source": [
    "h_pos = Point(0,0)\n",
    "t_pos = Point(0,0)\n",
    "pos_list = set()\n",
    "\n",
    "for cmd in cmds:\n",
    "    dir, dist = cmd.split(\" \")\n",
    "\n",
    "    for i in range(int(dist)):\n",
    "        h_pos.add(dir_to_vec(dir))\n",
    "        t_pos.add(t_pos.move_vec(h_pos))\n",
    "        pos_list.add((t_pos.x, t_pos.y))"
   ]
  },
  {
   "cell_type": "code",
   "execution_count": 5,
   "id": "507643ce",
   "metadata": {},
   "outputs": [],
   "source": [
    "puzzle.answer_a = len(list(pos_list))"
   ]
  },
  {
   "cell_type": "code",
   "execution_count": 6,
   "id": "95b98ed3",
   "metadata": {},
   "outputs": [],
   "source": [
    "rope = [Point(0,0), Point(0,0), Point(0,0), Point(0,0), Point(0,0),\n",
    "        Point(0,0), Point(0,0), Point(0,0), Point(0,0), Point(0,0)]\n",
    "\n",
    "pos_list = set()\n",
    "for cmd in cmds:\n",
    "    dir, dist = cmd.split(\" \")\n",
    "    for i in range(int(dist)):\n",
    "        for k in range(len(rope)):\n",
    "            if(k == 0):  # Head\n",
    "                rope[k].add(dir_to_vec(dir))\n",
    "            else:\n",
    "                rope[k].add(rope[k].move_vec(rope[k-1]))\n",
    "        pos_list.add((rope[-1].x, rope[-1].y))"
   ]
  },
  {
   "cell_type": "code",
   "execution_count": 7,
   "id": "8bcbd37c",
   "metadata": {},
   "outputs": [],
   "source": [
    "puzzle.answer_b = len(pos_list)"
   ]
  }
 ],
 "metadata": {
  "kernelspec": {
   "display_name": "Python 3 (ipykernel)",
   "language": "python",
   "name": "python3"
  },
  "language_info": {
   "codemirror_mode": {
    "name": "ipython",
    "version": 3
   },
   "file_extension": ".py",
   "mimetype": "text/x-python",
   "name": "python",
   "nbconvert_exporter": "python",
   "pygments_lexer": "ipython3",
   "version": "3.11.0"
  }
 },
 "nbformat": 4,
 "nbformat_minor": 5
}
