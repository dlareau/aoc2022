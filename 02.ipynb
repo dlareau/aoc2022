{
 "cells": [
  {
   "cell_type": "code",
   "execution_count": 42,
   "id": "c54ac3ac",
   "metadata": {},
   "outputs": [],
   "source": [
    "import aocd\n",
    "import re\n",
    "import numpy as np\n",
    "%run helper.ipynb\n",
    "puzzle = aocd.models.Puzzle(year=2022, day=2)"
   ]
  },
  {
   "cell_type": "code",
   "execution_count": 43,
   "id": "0cf4d98c",
   "metadata": {},
   "outputs": [],
   "source": [
    "rounds = [x.split(\" \") for x in puzzle.input_data.split(\"\\n\")]"
   ]
  },
  {
   "cell_type": "code",
   "execution_count": 44,
   "id": "2f1ad13a",
   "metadata": {},
   "outputs": [],
   "source": [
    "rounds = [(ord(x[0]) - ord('A'), ord(x[1]) - ord('X')) for x in rounds]"
   ]
  },
  {
   "cell_type": "code",
   "execution_count": 49,
   "id": "0e947430",
   "metadata": {},
   "outputs": [],
   "source": [
    "def score(round):\n",
    "    # I    tem score          + win_score\n",
    "    return (1 + round[1]) + ((1-(round[0] - round[1])) % 3) * 3"
   ]
  },
  {
   "cell_type": "code",
   "execution_count": 46,
   "id": "e859a4ee",
   "metadata": {},
   "outputs": [],
   "source": [
    "puzzle.answer_a = sum(map(score, rounds))"
   ]
  },
  {
   "cell_type": "code",
   "execution_count": 47,
   "id": "45f93d48",
   "metadata": {},
   "outputs": [],
   "source": [
    "def score_b(round):\n",
    "    return (round[1] * 3) + ((round[0] + round[1] - 1) % 3 + 1)"
   ]
  },
  {
   "cell_type": "code",
   "execution_count": 48,
   "id": "70ed31fd",
   "metadata": {},
   "outputs": [],
   "source": [
    "puzzle.answer_b = sum(map(score_b, rounds))"
   ]
  },
  {
   "cell_type": "code",
   "execution_count": null,
   "id": "867eda22",
   "metadata": {},
   "outputs": [],
   "source": []
  }
 ],
 "metadata": {
  "kernelspec": {
   "display_name": "Python 3 (ipykernel)",
   "language": "python",
   "name": "python3"
  },
  "language_info": {
   "codemirror_mode": {
    "name": "ipython",
    "version": 3
   },
   "file_extension": ".py",
   "mimetype": "text/x-python",
   "name": "python",
   "nbconvert_exporter": "python",
   "pygments_lexer": "ipython3",
   "version": "3.11.0"
  }
 },
 "nbformat": 4,
 "nbformat_minor": 5
}
