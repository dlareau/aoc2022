{
 "cells": [
  {
   "cell_type": "code",
   "execution_count": 50,
   "id": "a451de70",
   "metadata": {},
   "outputs": [],
   "source": [
    "import aocd\n",
    "import re\n",
    "import numpy as np\n",
    "%run helper.ipynb\n",
    "puzzle = aocd.models.Puzzle(year=2022, day=2)"
   ]
  },
  {
   "cell_type": "code",
   "execution_count": 51,
   "id": "c178ac0f",
   "metadata": {},
   "outputs": [],
   "source": [
    "rounds = [x.split(\" \") for x in puzzle.input_data.split(\"\\n\")]"
   ]
  },
  {
   "cell_type": "code",
   "execution_count": 52,
   "id": "39fad4a1",
   "metadata": {},
   "outputs": [],
   "source": [
    "rounds = [(ord(x[0]) - ord('A'), ord(x[1]) - ord('X')) for x in rounds]"
   ]
  },
  {
   "cell_type": "code",
   "execution_count": 53,
   "id": "cdab386e",
   "metadata": {},
   "outputs": [],
   "source": [
    "def score(round):\n",
    "    #        item score   +            win score\n",
    "    return (1 + round[1]) + ((1-(round[0] - round[1])) % 3) * 3"
   ]
  },
  {
   "cell_type": "code",
   "execution_count": 54,
   "id": "6ee69730",
   "metadata": {},
   "outputs": [],
   "source": [
    "puzzle.answer_a = sum(map(score, rounds))"
   ]
  },
  {
   "cell_type": "code",
   "execution_count": 55,
   "id": "b9e33e1a",
   "metadata": {},
   "outputs": [],
   "source": [
    "def score_b(round):\n",
    "    #       win score     +            item score\n",
    "    return (round[1] * 3) + ((round[0] + round[1] - 1) % 3 + 1)"
   ]
  },
  {
   "cell_type": "code",
   "execution_count": 56,
   "id": "4131cc91",
   "metadata": {},
   "outputs": [],
   "source": [
    "puzzle.answer_b = sum(map(score_b, rounds))"
   ]
  },
  {
   "cell_type": "code",
   "execution_count": null,
   "id": "119bf3ba",
   "metadata": {},
   "outputs": [],
   "source": []
  }
 ],
 "metadata": {
  "kernelspec": {
   "display_name": "Python 3 (ipykernel)",
   "language": "python",
   "name": "python3"
  },
  "language_info": {
   "codemirror_mode": {
    "name": "ipython",
    "version": 3
   },
   "file_extension": ".py",
   "mimetype": "text/x-python",
   "name": "python",
   "nbconvert_exporter": "python",
   "pygments_lexer": "ipython3",
   "version": "3.11.0"
  }
 },
 "nbformat": 4,
 "nbformat_minor": 5
}
