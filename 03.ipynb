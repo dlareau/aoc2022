{
 "cells": [
  {
   "cell_type": "code",
   "execution_count": 47,
   "id": "1109c2d3",
   "metadata": {},
   "outputs": [],
   "source": [
    "import aocd\n",
    "import re\n",
    "import numpy as np\n",
    "%run helper.ipynb\n",
    "puzzle = aocd.models.Puzzle(year=2022, day=3)"
   ]
  },
  {
   "cell_type": "code",
   "execution_count": 48,
   "id": "86b2df6f",
   "metadata": {},
   "outputs": [],
   "source": [
    "data = puzzle.input_data.split(\"\\n\")"
   ]
  },
  {
   "cell_type": "code",
   "execution_count": 49,
   "id": "41f89b66",
   "metadata": {},
   "outputs": [],
   "source": [
    "duplicates = [set(x[:len(x)//2]) & set(x[len(x)//2:]) for x in data]"
   ]
  },
  {
   "cell_type": "code",
   "execution_count": 50,
   "id": "4757cb57",
   "metadata": {},
   "outputs": [],
   "source": [
    "def score(x):\n",
    "    if(x == x.lower()):\n",
    "        return ord(x) - ord(\"a\") + 1\n",
    "    else:\n",
    "        return ord(x) - ord(\"A\") + 27"
   ]
  },
  {
   "cell_type": "code",
   "execution_count": 51,
   "id": "a8c2e670",
   "metadata": {},
   "outputs": [],
   "source": [
    "puzzle.answer_a = sum(map(score,[list(x)[0] for x in duplicates]))"
   ]
  },
  {
   "cell_type": "code",
   "execution_count": 52,
   "id": "14d0a19c",
   "metadata": {},
   "outputs": [],
   "source": [
    "groups = chunks(data, 3)"
   ]
  },
  {
   "cell_type": "code",
   "execution_count": 53,
   "id": "1fd233d7",
   "metadata": {},
   "outputs": [],
   "source": [
    "duplicates_b = [set(group[0]) & set(group[1]) & set(group[2]) for group in groups]"
   ]
  },
  {
   "cell_type": "code",
   "execution_count": 54,
   "id": "26b4caed",
   "metadata": {},
   "outputs": [],
   "source": [
    "puzzle.answer_b = sum(map(score,[list(x)[0] for x in duplicates_b]))"
   ]
  },
  {
   "cell_type": "code",
   "execution_count": null,
   "id": "9676ce12",
   "metadata": {},
   "outputs": [],
   "source": []
  }
 ],
 "metadata": {
  "kernelspec": {
   "display_name": "Python 3 (ipykernel)",
   "language": "python",
   "name": "python3"
  },
  "language_info": {
   "codemirror_mode": {
    "name": "ipython",
    "version": 3
   },
   "file_extension": ".py",
   "mimetype": "text/x-python",
   "name": "python",
   "nbconvert_exporter": "python",
   "pygments_lexer": "ipython3",
   "version": "3.11.0"
  }
 },
 "nbformat": 4,
 "nbformat_minor": 5
}
