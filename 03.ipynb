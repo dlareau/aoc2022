{
 "cells": [
  {
   "cell_type": "code",
   "execution_count": 1,
   "id": "a9c17b36",
   "metadata": {},
   "outputs": [],
   "source": [
    "import aocd\n",
    "import re\n",
    "import numpy as np\n",
    "from functools import reduce\n",
    "%run helper.ipynb\n",
    "puzzle = aocd.models.Puzzle(year=2022, day=3)"
   ]
  },
  {
   "cell_type": "code",
   "execution_count": 2,
   "id": "15b49d8a",
   "metadata": {},
   "outputs": [],
   "source": [
    "data = puzzle.input_data.split(\"\\n\")"
   ]
  },
  {
   "cell_type": "code",
   "execution_count": 3,
   "id": "52b00731",
   "metadata": {},
   "outputs": [],
   "source": [
    "def score(x):\n",
    "    x = list(x)[0] # Assumes singleton set\n",
    "    if(x.islower()):\n",
    "        return ord(x) - ord(\"a\") + 1\n",
    "    else:\n",
    "        return ord(x) - ord(\"A\") + 27"
   ]
  },
  {
   "cell_type": "code",
   "execution_count": 4,
   "id": "e7046474",
   "metadata": {},
   "outputs": [],
   "source": [
    "duplicates_a = [set(x[:len(x)//2]) & set(x[len(x)//2:]) for x in data]"
   ]
  },
  {
   "cell_type": "code",
   "execution_count": 5,
   "id": "eb33990c",
   "metadata": {},
   "outputs": [],
   "source": [
    "puzzle.answer_a = sum(map(score, duplicates_a))"
   ]
  },
  {
   "cell_type": "code",
   "execution_count": 6,
   "id": "90ca485a",
   "metadata": {},
   "outputs": [],
   "source": [
    "groups = chunks(data, 3)"
   ]
  },
  {
   "cell_type": "code",
   "execution_count": 7,
   "id": "a1343a0f",
   "metadata": {},
   "outputs": [],
   "source": [
    "duplicates_b = [reduce(set.intersection, map(set, group)) for group in groups]"
   ]
  },
  {
   "cell_type": "code",
   "execution_count": 8,
   "id": "353ce6c5",
   "metadata": {},
   "outputs": [],
   "source": [
    "puzzle.answer_b = sum(map(score, duplicates_b))"
   ]
  }
 ],
 "metadata": {
  "kernelspec": {
   "display_name": "Python 3 (ipykernel)",
   "language": "python",
   "name": "python3"
  },
  "language_info": {
   "codemirror_mode": {
    "name": "ipython",
    "version": 3
   },
   "file_extension": ".py",
   "mimetype": "text/x-python",
   "name": "python",
   "nbconvert_exporter": "python",
   "pygments_lexer": "ipython3",
   "version": "3.11.0"
  }
 },
 "nbformat": 4,
 "nbformat_minor": 5
}
