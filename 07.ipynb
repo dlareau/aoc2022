{
 "cells": [
  {
   "cell_type": "code",
   "execution_count": 1,
   "id": "09f76b54",
   "metadata": {},
   "outputs": [],
   "source": [
    "import aocd\n",
    "import re\n",
    "import numpy as np\n",
    "from collections import defaultdict\n",
    "%run helper.ipynb\n",
    "puzzle = aocd.models.Puzzle(year=2022, day=7)"
   ]
  },
  {
   "cell_type": "code",
   "execution_count": 2,
   "id": "ed9af6b7",
   "metadata": {},
   "outputs": [],
   "source": [
    "lines = puzzle.input_data.split(\"\\n\")"
   ]
  },
  {
   "cell_type": "code",
   "execution_count": 3,
   "id": "c5a76131",
   "metadata": {},
   "outputs": [],
   "source": [
    "current_path = \"root\"\n",
    "curr_dirs = [\"root\"]\n",
    "dir_sizes = defaultdict(int)\n",
    "listed = set()\n",
    "\n",
    "# If dir names are unique most of this isn't needed, but it doesn't guarantee that.\n",
    "for line in lines:\n",
    "    match line.split(\" \"):\n",
    "        case [\"$\", \"cd\", \"/\"]:\n",
    "            curr_dirs = [\"root\"]\n",
    "            current_path = \"root\"\n",
    "        case [\"$\", \"cd\", \"..\"]:\n",
    "            curr_dirs = curr_dirs[:-1]\n",
    "            current_path = curr_dirs[-1]\n",
    "        case [\"$\", \"cd\", loc]:\n",
    "            current_path += (\"/\" + loc)\n",
    "            curr_dirs.append(current_path)\n",
    "        case [\"$\", \"ls\"]:\n",
    "            pass\n",
    "        case [\"dir\", dirname]:\n",
    "            pass\n",
    "        case [amt, filename]:\n",
    "            # More assumptions, this is in case they ls more than once\n",
    "            # in the same directory.\n",
    "            if(current_path + filename not in listed):\n",
    "                for d in curr_dirs:\n",
    "                    dir_sizes[d] += int(amt)\n",
    "                listed.add(current_path + filename)"
   ]
  },
  {
   "cell_type": "code",
   "execution_count": 4,
   "id": "e4745031",
   "metadata": {},
   "outputs": [],
   "source": [
    "puzzle.answer_a = sum([x for x in dir_sizes.values() if x < 100000])"
   ]
  },
  {
   "cell_type": "code",
   "execution_count": 5,
   "id": "cb586c1a",
   "metadata": {},
   "outputs": [],
   "source": [
    "min_free_space = dir_sizes['root'] - 40000000  # 3M - (7M - root) == root - 4M\n",
    "puzzle.answer_b = min([x for x in dir_sizes.values() if x > min_free_space])"
   ]
  }
 ],
 "metadata": {
  "kernelspec": {
   "display_name": "Python 3 (ipykernel)",
   "language": "python",
   "name": "python3"
  },
  "language_info": {
   "codemirror_mode": {
    "name": "ipython",
    "version": 3
   },
   "file_extension": ".py",
   "mimetype": "text/x-python",
   "name": "python",
   "nbconvert_exporter": "python",
   "pygments_lexer": "ipython3",
   "version": "3.11.0"
  }
 },
 "nbformat": 4,
 "nbformat_minor": 5
}
