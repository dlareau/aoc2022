{
 "cells": [
  {
   "cell_type": "code",
   "execution_count": 1,
   "id": "2838a921",
   "metadata": {},
   "outputs": [],
   "source": [
    "import aocd\n",
    "import re\n",
    "import numpy as np\n",
    "%run helper.ipynb\n",
    "puzzle = aocd.models.Puzzle(year=2022, day=10)"
   ]
  },
  {
   "cell_type": "code",
   "execution_count": 2,
   "id": "7578c307",
   "metadata": {},
   "outputs": [],
   "source": [
    "cmds = puzzle.input_data.splitlines()"
   ]
  },
  {
   "cell_type": "code",
   "execution_count": 3,
   "id": "ccc763c0",
   "metadata": {},
   "outputs": [],
   "source": [
    "x = 1\n",
    "cycle = 1\n",
    "step = 0 # counter within a cmd\n",
    "cmd_idx = -1\n",
    "signal = 0\n",
    "\n",
    "beam_pos = 0\n",
    "image = \"\"\n",
    "\n",
    "while cmd_idx < len(cmds)-1:\n",
    "    # Calculation Step\n",
    "    if(step == 0):\n",
    "        if(\"addx\" in cmds[cmd_idx]):\n",
    "            x += int(cmds[cmd_idx].split(\" \")[1])\n",
    "        cmd_idx += 1\n",
    "        if(\"addx\" in cmds[cmd_idx]):\n",
    "            step = 1\n",
    "    else:\n",
    "        step -= 1\n",
    "    \n",
    "    # Signal summation step (part a)\n",
    "    if (cycle - 20)%40 == 0:\n",
    "        signal += cycle * x\n",
    "    \n",
    "    # Image generation step (part b)\n",
    "    image += \"#\" if (abs(x-beam_pos) <= 1) else \".\"\n",
    "    beam_pos = (beam_pos + 1)%40\n",
    "    if(beam_pos == 0):\n",
    "        image += \"\\n\"\n",
    "    \n",
    "    # Bump cycle\n",
    "    cycle += 1"
   ]
  },
  {
   "cell_type": "code",
   "execution_count": 4,
   "id": "8f4415f3",
   "metadata": {},
   "outputs": [],
   "source": [
    "puzzle.answer_a = signal"
   ]
  },
  {
   "cell_type": "code",
   "execution_count": 5,
   "id": "7d7955f3",
   "metadata": {},
   "outputs": [
    {
     "name": "stdout",
     "output_type": "stream",
     "text": [
      "###....##.####.###..#..#.###..####.#..#.\n",
      "#..#....#.#....#..#.#..#.#..#.#....#..#.\n",
      "###.....#.###..#..#.####.#..#.###..#..#.\n",
      "#..#....#.#....###..#..#.###..#....#..#.\n",
      "#..#.#..#.#....#.#..#..#.#.#..#....#..#.\n",
      "###...##..#....#..#.#..#.#..#.#.....##..\n",
      "\n"
     ]
    }
   ],
   "source": [
    "print(image)"
   ]
  },
  {
   "cell_type": "code",
   "execution_count": 6,
   "id": "0daf8cca",
   "metadata": {},
   "outputs": [],
   "source": [
    "puzzle.answer_b = \"BJFRHRFU\""
   ]
  }
 ],
 "metadata": {
  "kernelspec": {
   "display_name": "Python 3 (ipykernel)",
   "language": "python",
   "name": "python3"
  },
  "language_info": {
   "codemirror_mode": {
    "name": "ipython",
    "version": 3
   },
   "file_extension": ".py",
   "mimetype": "text/x-python",
   "name": "python",
   "nbconvert_exporter": "python",
   "pygments_lexer": "ipython3",
   "version": "3.11.0"
  }
 },
 "nbformat": 4,
 "nbformat_minor": 5
}
