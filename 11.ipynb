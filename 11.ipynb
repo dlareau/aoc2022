{
 "cells": [
  {
   "cell_type": "code",
   "execution_count": 1,
   "id": "b6adb6ff",
   "metadata": {},
   "outputs": [],
   "source": [
    "import aocd\n",
    "import re\n",
    "import numpy as np\n",
    "from math import prod\n",
    "%run helper.ipynb\n",
    "puzzle = aocd.models.Puzzle(year=2022, day=11)"
   ]
  },
  {
   "cell_type": "code",
   "execution_count": 2,
   "id": "5ef7e7d8",
   "metadata": {},
   "outputs": [],
   "source": [
    "monkey_regex = r\".* (?P<num>\\d+):\\n.*: (?P<items>[0-9 ,]+)\\n.*w = (?P<op>.*)\\n.*by (?P<test>\\d+)\\n.*y (?P<iftrue>\\d+)\\n.*y (?P<iffalse>\\d+)\"\n",
    "\n",
    "class Monkey():\n",
    "    def __init__(self, def_string):\n",
    "        m = re.match(monkey_regex, def_string)\n",
    "        self.num = int(m.group('num'))\n",
    "        self.items = list(map(int, m.group('items').split(\", \")))\n",
    "        self.op = m.group('op')\n",
    "        self.test = int(m.group('test'))\n",
    "        self.if_true = int(m.group('iftrue'))\n",
    "        self.if_false = int(m.group('iffalse'))\n",
    "        self.throw_count = 0\n",
    "        \n",
    "    def link(self, m_list):\n",
    "        self.if_true = m_list[self.if_true]\n",
    "        self.if_false = m_list[self.if_false]\n",
    "        \n",
    "    def do_op(self, old):\n",
    "        if(self.op[6:] == \"old\"):\n",
    "            match self.op[4]:\n",
    "                case \"+\":\n",
    "                    return old + old\n",
    "                case \"*\":\n",
    "                    return old * old\n",
    "        else:\n",
    "            match self.op[4]:\n",
    "                case \"+\":\n",
    "                    return old + int(self.op[6:])\n",
    "                case \"-\":\n",
    "                    return old - int(self.op[6:])\n",
    "                case \"*\":\n",
    "                    return old * int(self.op[6:])\n",
    "                case _:\n",
    "                    print(\"missed op\")\n",
    "    \n",
    "    def get_item(self):\n",
    "        item = self.items.pop(0)\n",
    "        item = self.do_op(item)\n",
    "        item = item // 3\n",
    "        return item\n",
    "        \n",
    "    def throw(self):\n",
    "        item = self.get_item()\n",
    "        if(item % self.test == 0):\n",
    "            self.if_true.items.append(item)\n",
    "        else:\n",
    "            self.if_false.items.append(item)\n",
    "        self.throw_count += 1\n",
    "            \n",
    "    def take_turn(self):\n",
    "        while(len(self.items)):\n",
    "            self.throw()\n",
    "        \n",
    "    def __repr__(self):\n",
    "        return f\"Monkey {self.num}: {self.items}\"\n",
    "    \n",
    "monkeys = list(map(Monkey, puzzle.input_data.split(\"\\n\\n\")))\n",
    "for m in monkeys: m.link(monkeys)"
   ]
  },
  {
   "cell_type": "code",
   "execution_count": 3,
   "id": "e8dfbcc2",
   "metadata": {},
   "outputs": [],
   "source": [
    "for i in range(20):\n",
    "    for m in monkeys:\n",
    "        m.take_turn()"
   ]
  },
  {
   "cell_type": "code",
   "execution_count": 4,
   "id": "62b4444e",
   "metadata": {},
   "outputs": [],
   "source": [
    "throws = sorted([m.throw_count for m in monkeys])\n",
    "puzzle.answer_a = throws[-1] * throws[-2]"
   ]
  },
  {
   "cell_type": "code",
   "execution_count": 5,
   "id": "0e7a6dcd",
   "metadata": {},
   "outputs": [],
   "source": [
    "class Monkey2(Monkey):\n",
    "    def link(self, m_list):\n",
    "        self.if_true = m_list[self.if_true]\n",
    "        self.if_false = m_list[self.if_false]\n",
    "        self.cap = prod([m.test for m in m_list])\n",
    "        \n",
    "    def get_item(self):\n",
    "        item = self.items.pop(0)\n",
    "        item = self.do_op(item) % self.cap\n",
    "        return item\n",
    "\n",
    "monkeys = list(map(Monkey2, puzzle.input_data.split(\"\\n\\n\")))\n",
    "for m in monkeys: m.link(monkeys)"
   ]
  },
  {
   "cell_type": "code",
   "execution_count": 6,
   "id": "d649ec67",
   "metadata": {},
   "outputs": [],
   "source": [
    "for i in range(10000):\n",
    "    for m in monkeys:\n",
    "        m.take_turn()"
   ]
  },
  {
   "cell_type": "code",
   "execution_count": 7,
   "id": "9fac9f52",
   "metadata": {},
   "outputs": [],
   "source": [
    "throws = sorted([m.throw_count for m in monkeys])\n",
    "puzzle.answer_b = throws[-1] * throws[-2]"
   ]
  }
 ],
 "metadata": {
  "kernelspec": {
   "display_name": "Python 3 (ipykernel)",
   "language": "python",
   "name": "python3"
  },
  "language_info": {
   "codemirror_mode": {
    "name": "ipython",
    "version": 3
   },
   "file_extension": ".py",
   "mimetype": "text/x-python",
   "name": "python",
   "nbconvert_exporter": "python",
   "pygments_lexer": "ipython3",
   "version": "3.11.0"
  }
 },
 "nbformat": 4,
 "nbformat_minor": 5
}
