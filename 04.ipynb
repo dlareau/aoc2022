{
 "cells": [
  {
   "cell_type": "code",
   "execution_count": 1,
   "id": "21c00d40",
   "metadata": {},
   "outputs": [],
   "source": [
    "import aocd\n",
    "import re\n",
    "import numpy as np\n",
    "from functools import reduce\n",
    "%run helper.ipynb\n",
    "puzzle = aocd.models.Puzzle(year=2022, day=4)"
   ]
  },
  {
   "cell_type": "code",
   "execution_count": 2,
   "id": "b8fbe479",
   "metadata": {},
   "outputs": [],
   "source": [
    "lines = puzzle.input_data.split(\"\\n\")"
   ]
  },
  {
   "cell_type": "code",
   "execution_count": 3,
   "id": "82e73a55",
   "metadata": {},
   "outputs": [],
   "source": [
    "pairs = [tuple(map(int, re.findall(\"\\d+\", x))) for x in lines]"
   ]
  },
  {
   "cell_type": "code",
   "execution_count": 4,
   "id": "3bac30a0",
   "metadata": {},
   "outputs": [],
   "source": [
    "def inside(pair):\n",
    "    x0, x1, y0, y1 = pair\n",
    "    return (x0 <= y0 and x1 >= y1) or (y0 <= x0 and y1 >= x1)"
   ]
  },
  {
   "cell_type": "code",
   "execution_count": 5,
   "id": "d08c7420",
   "metadata": {},
   "outputs": [],
   "source": [
    "puzzle.answer_a = sum(list(map(inside, pairs)))"
   ]
  },
  {
   "cell_type": "code",
   "execution_count": 6,
   "id": "93e38c38",
   "metadata": {},
   "outputs": [],
   "source": [
    "def overlap(pair):\n",
    "    x0, x1, y0, y1 = pair\n",
    "    # Cleaner solution after dicsussion with others\n",
    "    return x0 in range(y0, y1+1) or y0 in range(x0, x1+1)\n",
    "\n",
    "    # Original solo solution\n",
    "    return len(set(range(x0, x1+1)).intersection(range(y0, y1+1))) > 0"
   ]
  },
  {
   "cell_type": "code",
   "execution_count": 7,
   "id": "92359428",
   "metadata": {},
   "outputs": [],
   "source": [
    "puzzle.answer_b = sum(list(map(overlap, pairs)))"
   ]
  }
 ],
 "metadata": {
  "kernelspec": {
   "display_name": "Python 3 (ipykernel)",
   "language": "python",
   "name": "python3"
  },
  "language_info": {
   "codemirror_mode": {
    "name": "ipython",
    "version": 3
   },
   "file_extension": ".py",
   "mimetype": "text/x-python",
   "name": "python",
   "nbconvert_exporter": "python",
   "pygments_lexer": "ipython3",
   "version": "3.11.0"
  }
 },
 "nbformat": 4,
 "nbformat_minor": 5
}
