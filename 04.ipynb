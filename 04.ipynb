{
 "cells": [
  {
   "cell_type": "code",
   "execution_count": 1,
   "id": "79c6ec40",
   "metadata": {},
   "outputs": [],
   "source": [
    "import aocd\n",
    "import re\n",
    "import numpy as np\n",
    "from functools import reduce\n",
    "%run helper.ipynb\n",
    "puzzle = aocd.models.Puzzle(year=2022, day=4)"
   ]
  },
  {
   "cell_type": "code",
   "execution_count": 2,
   "id": "3eb31e97",
   "metadata": {},
   "outputs": [],
   "source": [
    "lines = puzzle.input_data.split(\"\\n\")"
   ]
  },
  {
   "cell_type": "code",
   "execution_count": 3,
   "id": "5c6a01dc",
   "metadata": {},
   "outputs": [],
   "source": [
    "pairs = [tuple(map(int, re.findall(\"\\d+\", x))) for x in lines]"
   ]
  },
  {
   "cell_type": "code",
   "execution_count": 4,
   "id": "a945b3ed",
   "metadata": {},
   "outputs": [],
   "source": [
    "def inside(pair):\n",
    "    x0, x1, y0, y1 = pair\n",
    "    return (x0 <= y0 and x1 >= y1) or (y0 <= x0 and y1 >= x1)"
   ]
  },
  {
   "cell_type": "code",
   "execution_count": 5,
   "id": "c752484e",
   "metadata": {},
   "outputs": [],
   "source": [
    "puzzle.answer_a = sum(list(map(inside, pairs)))"
   ]
  },
  {
   "cell_type": "code",
   "execution_count": 6,
   "id": "0668ea9e",
   "metadata": {},
   "outputs": [],
   "source": [
    "def overlap(pair):\n",
    "    x0, x1, y0, y1 = pair\n",
    "    return len(set(range(x0, x1+1)).intersection(range(y0, y1+1))) > 0"
   ]
  },
  {
   "cell_type": "code",
   "execution_count": 7,
   "id": "d1f0938a",
   "metadata": {},
   "outputs": [],
   "source": [
    "puzzle.answer_b = sum(list(map(overlap, pairs)))"
   ]
  }
 ],
 "metadata": {
  "kernelspec": {
   "display_name": "Python 3 (ipykernel)",
   "language": "python",
   "name": "python3"
  },
  "language_info": {
   "codemirror_mode": {
    "name": "ipython",
    "version": 3
   },
   "file_extension": ".py",
   "mimetype": "text/x-python",
   "name": "python",
   "nbconvert_exporter": "python",
   "pygments_lexer": "ipython3",
   "version": "3.11.0"
  }
 },
 "nbformat": 4,
 "nbformat_minor": 5
}
