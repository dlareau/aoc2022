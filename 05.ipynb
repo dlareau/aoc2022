{
 "cells": [
  {
   "cell_type": "code",
   "execution_count": 1,
   "id": "0c0a3a45",
   "metadata": {},
   "outputs": [],
   "source": [
    "import aocd\n",
    "import re\n",
    "import numpy as np\n",
    "from functools import reduce\n",
    "import copy\n",
    "%run helper.ipynb\n",
    "puzzle = aocd.models.Puzzle(year=2022, day=5)"
   ]
  },
  {
   "cell_type": "code",
   "execution_count": 2,
   "id": "8783d023",
   "metadata": {},
   "outputs": [],
   "source": [
    "crates, orders = puzzle.input_data.split(\"\\n\\n\")"
   ]
  },
  {
   "cell_type": "code",
   "execution_count": 3,
   "id": "c274ad64",
   "metadata": {},
   "outputs": [],
   "source": [
    "# Extract 2d array in the same orientation as the crates string\n",
    "regex = r\"(?:(?:(?:\\[([A-Z])\\])|(?:   )) ?)\"\n",
    "rows = np.array([re.findall(regex, x) for x in crates.split(\"\\n\")[:-1]])"
   ]
  },
  {
   "cell_type": "code",
   "execution_count": 4,
   "id": "1aa734fc",
   "metadata": {},
   "outputs": [],
   "source": [
    "# Transpose the 2d array to column major order and remove empties\n",
    "stacks = [list(\"\".join(x)) for x in np.fliplr(rows.T).tolist()]"
   ]
  },
  {
   "cell_type": "code",
   "execution_count": 5,
   "id": "fdeb1b42",
   "metadata": {},
   "outputs": [],
   "source": [
    "# Extract numbers from orders\n",
    "moves = [re.findall(\"\\d+\", x) for x in orders.split(\"\\n\")]"
   ]
  },
  {
   "cell_type": "code",
   "execution_count": 6,
   "id": "15c77e77",
   "metadata": {},
   "outputs": [],
   "source": [
    "def run_moves_single(moves, stacks):\n",
    "    for move in moves:\n",
    "        n, a, b = map(int, move)\n",
    "        for i in range(n):\n",
    "            stacks[b-1].append(stacks[a-1].pop())\n",
    "    return stacks"
   ]
  },
  {
   "cell_type": "code",
   "execution_count": 7,
   "id": "e5ac7289",
   "metadata": {},
   "outputs": [],
   "source": [
    "output_a = run_moves_single(moves, copy.deepcopy(stacks))"
   ]
  },
  {
   "cell_type": "code",
   "execution_count": 8,
   "id": "3811bf6b",
   "metadata": {},
   "outputs": [],
   "source": [
    "puzzle.answer_a = \"\".join([x[-1] for x in output_a])"
   ]
  },
  {
   "cell_type": "code",
   "execution_count": 9,
   "id": "73c29d09",
   "metadata": {},
   "outputs": [],
   "source": [
    "def run_moves_stack(moves, stacks):\n",
    "    for move in moves:\n",
    "        n, a, b = map(int, move)\n",
    "        temp = stacks[a-1][-n:]\n",
    "        stacks[a-1] = stacks[a-1][:-n]\n",
    "        stacks[b-1] += temp\n",
    "    return stacks"
   ]
  },
  {
   "cell_type": "code",
   "execution_count": 10,
   "id": "fc93d4ec",
   "metadata": {},
   "outputs": [],
   "source": [
    "output_b = run_moves_stack(moves, copy.deepcopy(stacks))"
   ]
  },
  {
   "cell_type": "code",
   "execution_count": 11,
   "id": "9bb1d056",
   "metadata": {},
   "outputs": [],
   "source": [
    "puzzle.answer_b = \"\".join([x[-1] for x in output_b])"
   ]
  }
 ],
 "metadata": {
  "kernelspec": {
   "display_name": "Python 3 (ipykernel)",
   "language": "python",
   "name": "python3"
  },
  "language_info": {
   "codemirror_mode": {
    "name": "ipython",
    "version": 3
   },
   "file_extension": ".py",
   "mimetype": "text/x-python",
   "name": "python",
   "nbconvert_exporter": "python",
   "pygments_lexer": "ipython3",
   "version": "3.11.0"
  }
 },
 "nbformat": 4,
 "nbformat_minor": 5
}
