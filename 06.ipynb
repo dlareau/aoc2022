{
 "cells": [
  {
   "cell_type": "code",
   "execution_count": 23,
   "id": "21fe0646",
   "metadata": {},
   "outputs": [],
   "source": [
    "import aocd\n",
    "import re\n",
    "import numpy as np\n",
    "from functools import reduce\n",
    "import copy\n",
    "%run helper.ipynb\n",
    "puzzle = aocd.models.Puzzle(year=2022, day=6)"
   ]
  },
  {
   "cell_type": "code",
   "execution_count": 34,
   "id": "4874f6b8",
   "metadata": {},
   "outputs": [],
   "source": [
    "data = puzzle.input_data\n",
    "def find_unique(signal, n):\n",
    "    for i in range(len(data)):\n",
    "        if(len(set(data[i:i+n])) == n):\n",
    "            return i+n\n",
    "    return -1"
   ]
  },
  {
   "cell_type": "code",
   "execution_count": 35,
   "id": "bb209d67",
   "metadata": {},
   "outputs": [],
   "source": [
    "puzzle.answer_a = find_unique(data, 4)\n",
    "puzzle.answer_b = find_unique(data, 14)"
   ]
  },
  {
   "cell_type": "code",
   "execution_count": null,
   "id": "d4fdb951",
   "metadata": {},
   "outputs": [],
   "source": []
  }
 ],
 "metadata": {
  "kernelspec": {
   "display_name": "Python 3 (ipykernel)",
   "language": "python",
   "name": "python3"
  },
  "language_info": {
   "codemirror_mode": {
    "name": "ipython",
    "version": 3
   },
   "file_extension": ".py",
   "mimetype": "text/x-python",
   "name": "python",
   "nbconvert_exporter": "python",
   "pygments_lexer": "ipython3",
   "version": "3.11.0"
  }
 },
 "nbformat": 4,
 "nbformat_minor": 5
}
